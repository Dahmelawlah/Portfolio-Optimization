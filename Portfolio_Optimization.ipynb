{
 "cells": [
  {
   "cell_type": "code",
   "execution_count": 1,
   "metadata": {
    "id": "f1YnFEdWpYWX"
   },
   "outputs": [
    {
     "name": "stderr",
     "output_type": "stream",
     "text": [
      "C:\\Users\\damil\\anaconda3\\lib\\site-packages\\pyfolio\\pos.py:26: UserWarning: Module \"zipline.assets\" not found; mutltipliers will not be applied to position notionals.\n",
      "  warnings.warn(\n"
     ]
    }
   ],
   "source": [
    "#Description : This program attempts to optimize a users portfolo using the Efficient Frontier\n",
    "#Import the python Libraries\n",
    "from pandas_datareader import data as web\n",
    "import warnings\n",
    "import pandas as pd\n",
    "import numpy as np\n",
    "import pyfolio as pf\n",
    "import yfinance as yf\n",
    "from datetime import datetime\n",
    "import matplotlib.pyplot as plt\n",
    "plt.style.use('fivethirtyeight')\n",
    "\n",
    "warnings.filterwarnings(\"ignore\")"
   ]
  },
  {
   "cell_type": "code",
   "execution_count": 2,
   "metadata": {
    "id": "Qb0A2NzTpYWi"
   },
   "outputs": [],
   "source": [
    "#Get the stock symbols/tickers in the portfolio\n",
    "#VALUE STOCKS - They typically are mature businesses.Steady (but not spectacular) growth rates.Relatively stable revenues and earnings.\n",
    "#GROWTH STOCKS - increase their revenue and earnings at a faster rate than the average business in their industry. \n",
    "#INCOME STOCKS - reliably pays a dividend to its shareholders, attractive to investors who want to earn short-term yields on their investments\n",
    "\n",
    "Assets = ['AMZN', 'KO', 'GM', 'WM', 'VZ', 'MSFT', 'TSLA', 'NVDA', 'AMD', 'TLT']"
   ]
  },
  {
   "cell_type": "code",
   "execution_count": 3,
   "metadata": {
    "colab": {
     "base_uri": "https://localhost:8080/",
     "height": 35
    },
    "executionInfo": {
     "elapsed": 570,
     "status": "ok",
     "timestamp": 1636036937175,
     "user": {
      "displayName": "Damilola Omoseni",
      "photoUrl": "https://lh3.googleusercontent.com/a-/AOh14Gh8VXzK9GYlH-U4AHLfdGklJR_O9KOlxk_MXVJD0g=s64",
      "userId": "15916352059041585062"
     },
     "user_tz": 0
    },
    "id": "fdMkjSyMpYWk",
    "outputId": "64a1087a-ae5c-4875-f497-6c260a065550"
   },
   "outputs": [
    {
     "data": {
      "text/plain": [
       "'2022-06-30'"
      ]
     },
     "execution_count": 3,
     "metadata": {},
     "output_type": "execute_result"
    }
   ],
   "source": [
    "#Get the stock/portfolio starting date\n",
    "stockStartDate = '2019-01-01'\n",
    "\n",
    "#Get the stocks ending date (today)\n",
    "today = datetime.today().strftime('%Y-%m-%d')\n",
    "today"
   ]
  },
  {
   "cell_type": "code",
   "execution_count": 4,
   "metadata": {},
   "outputs": [],
   "source": [
    "No_of_assets = len(Assets)\n",
    "\n",
    "#Assign Weights to the stocks (They have to be of equal weighting)\n",
    "weights = No_of_assets * [1 / No_of_assets]\n",
    "No_of_days = 252"
   ]
  },
  {
   "cell_type": "code",
   "execution_count": 5,
   "metadata": {
    "id": "m67XoA5IpYWm"
   },
   "outputs": [],
   "source": [
    "#Create a dataframe to store the adjusted close price of the stocks\n",
    "df = pd.DataFrame()\n",
    "\n",
    "#Store the adjusted close price of the stock into the df\n",
    "for stocks in Assets:\n",
    "    df[stocks] = web.DataReader(stocks, data_source='yahoo', start=stockStartDate, end=today)['Adj Close']"
   ]
  },
  {
   "cell_type": "code",
   "execution_count": 6,
   "metadata": {
    "executionInfo": {
     "elapsed": 21,
     "status": "aborted",
     "timestamp": 1636036871935,
     "user": {
      "displayName": "Damilola Omoseni",
      "photoUrl": "https://lh3.googleusercontent.com/a-/AOh14Gh8VXzK9GYlH-U4AHLfdGklJR_O9KOlxk_MXVJD0g=s64",
      "userId": "15916352059041585062"
     },
     "user_tz": 0
    },
    "id": "38iQgdJ5pYWn",
    "outputId": "94ada4dc-d9ec-40af-8913-00214c9e7133"
   },
   "outputs": [
    {
     "data": {
      "text/html": [
       "<div>\n",
       "<style scoped>\n",
       "    .dataframe tbody tr th:only-of-type {\n",
       "        vertical-align: middle;\n",
       "    }\n",
       "\n",
       "    .dataframe tbody tr th {\n",
       "        vertical-align: top;\n",
       "    }\n",
       "\n",
       "    .dataframe thead th {\n",
       "        text-align: right;\n",
       "    }\n",
       "</style>\n",
       "<table border=\"1\" class=\"dataframe\">\n",
       "  <thead>\n",
       "    <tr style=\"text-align: right;\">\n",
       "      <th></th>\n",
       "      <th>AMZN</th>\n",
       "      <th>KO</th>\n",
       "      <th>GM</th>\n",
       "      <th>WM</th>\n",
       "      <th>VZ</th>\n",
       "      <th>MSFT</th>\n",
       "      <th>TSLA</th>\n",
       "      <th>NVDA</th>\n",
       "      <th>AMD</th>\n",
       "      <th>TLT</th>\n",
       "    </tr>\n",
       "    <tr>\n",
       "      <th>Date</th>\n",
       "      <th></th>\n",
       "      <th></th>\n",
       "      <th></th>\n",
       "      <th></th>\n",
       "      <th></th>\n",
       "      <th></th>\n",
       "      <th></th>\n",
       "      <th></th>\n",
       "      <th></th>\n",
       "      <th></th>\n",
       "    </tr>\n",
       "  </thead>\n",
       "  <tbody>\n",
       "    <tr>\n",
       "      <th>2019-01-02</th>\n",
       "      <td>76.956497</td>\n",
       "      <td>42.011791</td>\n",
       "      <td>31.893356</td>\n",
       "      <td>83.398003</td>\n",
       "      <td>48.088295</td>\n",
       "      <td>97.353912</td>\n",
       "      <td>62.023998</td>\n",
       "      <td>33.824169</td>\n",
       "      <td>18.830000</td>\n",
       "      <td>114.920059</td>\n",
       "    </tr>\n",
       "    <tr>\n",
       "      <th>2019-01-03</th>\n",
       "      <td>75.014000</td>\n",
       "      <td>41.752182</td>\n",
       "      <td>30.575533</td>\n",
       "      <td>83.172386</td>\n",
       "      <td>48.259975</td>\n",
       "      <td>93.772453</td>\n",
       "      <td>60.071999</td>\n",
       "      <td>31.780613</td>\n",
       "      <td>17.049999</td>\n",
       "      <td>116.227753</td>\n",
       "    </tr>\n",
       "    <tr>\n",
       "      <th>2019-01-04</th>\n",
       "      <td>78.769501</td>\n",
       "      <td>42.584709</td>\n",
       "      <td>31.599455</td>\n",
       "      <td>85.381439</td>\n",
       "      <td>48.380146</td>\n",
       "      <td>98.133743</td>\n",
       "      <td>63.537998</td>\n",
       "      <td>33.816708</td>\n",
       "      <td>19.000000</td>\n",
       "      <td>114.882378</td>\n",
       "    </tr>\n",
       "    <tr>\n",
       "      <th>2019-01-07</th>\n",
       "      <td>81.475502</td>\n",
       "      <td>42.029690</td>\n",
       "      <td>32.575974</td>\n",
       "      <td>85.588242</td>\n",
       "      <td>48.689182</td>\n",
       "      <td>98.258904</td>\n",
       "      <td>66.991997</td>\n",
       "      <td>35.607002</td>\n",
       "      <td>20.570000</td>\n",
       "      <td>114.543724</td>\n",
       "    </tr>\n",
       "    <tr>\n",
       "      <th>2019-01-08</th>\n",
       "      <td>82.829002</td>\n",
       "      <td>42.504147</td>\n",
       "      <td>33.002617</td>\n",
       "      <td>86.800835</td>\n",
       "      <td>50.114151</td>\n",
       "      <td>98.971336</td>\n",
       "      <td>67.070000</td>\n",
       "      <td>34.720543</td>\n",
       "      <td>20.750000</td>\n",
       "      <td>114.242661</td>\n",
       "    </tr>\n",
       "    <tr>\n",
       "      <th>...</th>\n",
       "      <td>...</td>\n",
       "      <td>...</td>\n",
       "      <td>...</td>\n",
       "      <td>...</td>\n",
       "      <td>...</td>\n",
       "      <td>...</td>\n",
       "      <td>...</td>\n",
       "      <td>...</td>\n",
       "      <td>...</td>\n",
       "      <td>...</td>\n",
       "    </tr>\n",
       "    <tr>\n",
       "      <th>2022-06-23</th>\n",
       "      <td>112.440002</td>\n",
       "      <td>61.880001</td>\n",
       "      <td>32.990002</td>\n",
       "      <td>147.190002</td>\n",
       "      <td>52.090000</td>\n",
       "      <td>258.859985</td>\n",
       "      <td>705.210022</td>\n",
       "      <td>162.250000</td>\n",
       "      <td>82.430000</td>\n",
       "      <td>114.139999</td>\n",
       "    </tr>\n",
       "    <tr>\n",
       "      <th>2022-06-24</th>\n",
       "      <td>116.459999</td>\n",
       "      <td>63.040001</td>\n",
       "      <td>34.820000</td>\n",
       "      <td>150.309998</td>\n",
       "      <td>50.959999</td>\n",
       "      <td>267.700012</td>\n",
       "      <td>737.119995</td>\n",
       "      <td>171.259995</td>\n",
       "      <td>87.080002</td>\n",
       "      <td>112.559998</td>\n",
       "    </tr>\n",
       "    <tr>\n",
       "      <th>2022-06-27</th>\n",
       "      <td>113.220001</td>\n",
       "      <td>62.910000</td>\n",
       "      <td>34.630001</td>\n",
       "      <td>149.529999</td>\n",
       "      <td>50.959999</td>\n",
       "      <td>264.890015</td>\n",
       "      <td>734.760010</td>\n",
       "      <td>168.690002</td>\n",
       "      <td>86.160004</td>\n",
       "      <td>111.599998</td>\n",
       "    </tr>\n",
       "    <tr>\n",
       "      <th>2022-06-28</th>\n",
       "      <td>107.400002</td>\n",
       "      <td>62.279999</td>\n",
       "      <td>33.990002</td>\n",
       "      <td>148.880005</td>\n",
       "      <td>50.459999</td>\n",
       "      <td>256.480011</td>\n",
       "      <td>697.989990</td>\n",
       "      <td>159.820007</td>\n",
       "      <td>80.779999</td>\n",
       "      <td>112.120003</td>\n",
       "    </tr>\n",
       "    <tr>\n",
       "      <th>2022-06-29</th>\n",
       "      <td>108.919998</td>\n",
       "      <td>62.730000</td>\n",
       "      <td>33.450001</td>\n",
       "      <td>151.250000</td>\n",
       "      <td>50.939999</td>\n",
       "      <td>260.260010</td>\n",
       "      <td>685.469971</td>\n",
       "      <td>155.419998</td>\n",
       "      <td>77.989998</td>\n",
       "      <td>113.870003</td>\n",
       "    </tr>\n",
       "  </tbody>\n",
       "</table>\n",
       "<p>880 rows × 10 columns</p>\n",
       "</div>"
      ],
      "text/plain": [
       "                  AMZN         KO         GM          WM         VZ  \\\n",
       "Date                                                                  \n",
       "2019-01-02   76.956497  42.011791  31.893356   83.398003  48.088295   \n",
       "2019-01-03   75.014000  41.752182  30.575533   83.172386  48.259975   \n",
       "2019-01-04   78.769501  42.584709  31.599455   85.381439  48.380146   \n",
       "2019-01-07   81.475502  42.029690  32.575974   85.588242  48.689182   \n",
       "2019-01-08   82.829002  42.504147  33.002617   86.800835  50.114151   \n",
       "...                ...        ...        ...         ...        ...   \n",
       "2022-06-23  112.440002  61.880001  32.990002  147.190002  52.090000   \n",
       "2022-06-24  116.459999  63.040001  34.820000  150.309998  50.959999   \n",
       "2022-06-27  113.220001  62.910000  34.630001  149.529999  50.959999   \n",
       "2022-06-28  107.400002  62.279999  33.990002  148.880005  50.459999   \n",
       "2022-06-29  108.919998  62.730000  33.450001  151.250000  50.939999   \n",
       "\n",
       "                  MSFT        TSLA        NVDA        AMD         TLT  \n",
       "Date                                                                   \n",
       "2019-01-02   97.353912   62.023998   33.824169  18.830000  114.920059  \n",
       "2019-01-03   93.772453   60.071999   31.780613  17.049999  116.227753  \n",
       "2019-01-04   98.133743   63.537998   33.816708  19.000000  114.882378  \n",
       "2019-01-07   98.258904   66.991997   35.607002  20.570000  114.543724  \n",
       "2019-01-08   98.971336   67.070000   34.720543  20.750000  114.242661  \n",
       "...                ...         ...         ...        ...         ...  \n",
       "2022-06-23  258.859985  705.210022  162.250000  82.430000  114.139999  \n",
       "2022-06-24  267.700012  737.119995  171.259995  87.080002  112.559998  \n",
       "2022-06-27  264.890015  734.760010  168.690002  86.160004  111.599998  \n",
       "2022-06-28  256.480011  697.989990  159.820007  80.779999  112.120003  \n",
       "2022-06-29  260.260010  685.469971  155.419998  77.989998  113.870003  \n",
       "\n",
       "[880 rows x 10 columns]"
      ]
     },
     "execution_count": 6,
     "metadata": {},
     "output_type": "execute_result"
    }
   ],
   "source": [
    "#show the DataFrame\n",
    "df"
   ]
  },
  {
   "cell_type": "code",
   "execution_count": 7,
   "metadata": {
    "executionInfo": {
     "elapsed": 23,
     "status": "aborted",
     "timestamp": 1636036871938,
     "user": {
      "displayName": "Damilola Omoseni",
      "photoUrl": "https://lh3.googleusercontent.com/a-/AOh14Gh8VXzK9GYlH-U4AHLfdGklJR_O9KOlxk_MXVJD0g=s64",
      "userId": "15916352059041585062"
     },
     "user_tz": 0
    },
    "id": "ciGBlXT3pYWo",
    "outputId": "bd33b47b-c247-45a7-af49-355f59254315"
   },
   "outputs": [
    {
     "data": {
      "text/html": [
       "<div>\n",
       "<style scoped>\n",
       "    .dataframe tbody tr th:only-of-type {\n",
       "        vertical-align: middle;\n",
       "    }\n",
       "\n",
       "    .dataframe tbody tr th {\n",
       "        vertical-align: top;\n",
       "    }\n",
       "\n",
       "    .dataframe thead th {\n",
       "        text-align: right;\n",
       "    }\n",
       "</style>\n",
       "<table border=\"1\" class=\"dataframe\">\n",
       "  <thead>\n",
       "    <tr style=\"text-align: right;\">\n",
       "      <th></th>\n",
       "      <th>AMZN</th>\n",
       "      <th>KO</th>\n",
       "      <th>GM</th>\n",
       "      <th>WM</th>\n",
       "      <th>VZ</th>\n",
       "      <th>MSFT</th>\n",
       "      <th>TSLA</th>\n",
       "      <th>NVDA</th>\n",
       "      <th>AMD</th>\n",
       "      <th>TLT</th>\n",
       "    </tr>\n",
       "    <tr>\n",
       "      <th>Date</th>\n",
       "      <th></th>\n",
       "      <th></th>\n",
       "      <th></th>\n",
       "      <th></th>\n",
       "      <th></th>\n",
       "      <th></th>\n",
       "      <th></th>\n",
       "      <th></th>\n",
       "      <th></th>\n",
       "      <th></th>\n",
       "    </tr>\n",
       "  </thead>\n",
       "  <tbody>\n",
       "    <tr>\n",
       "      <th>2019-01-03</th>\n",
       "      <td>-0.025241</td>\n",
       "      <td>-0.006179</td>\n",
       "      <td>-0.041320</td>\n",
       "      <td>-0.002705</td>\n",
       "      <td>0.003570</td>\n",
       "      <td>-0.036788</td>\n",
       "      <td>-0.031472</td>\n",
       "      <td>-0.060417</td>\n",
       "      <td>-0.094530</td>\n",
       "      <td>0.011379</td>\n",
       "    </tr>\n",
       "    <tr>\n",
       "      <th>2019-01-04</th>\n",
       "      <td>0.050064</td>\n",
       "      <td>0.019940</td>\n",
       "      <td>0.033488</td>\n",
       "      <td>0.026560</td>\n",
       "      <td>0.002490</td>\n",
       "      <td>0.046509</td>\n",
       "      <td>0.057697</td>\n",
       "      <td>0.064067</td>\n",
       "      <td>0.114370</td>\n",
       "      <td>-0.011575</td>\n",
       "    </tr>\n",
       "    <tr>\n",
       "      <th>2019-01-07</th>\n",
       "      <td>0.034353</td>\n",
       "      <td>-0.013033</td>\n",
       "      <td>0.030903</td>\n",
       "      <td>0.002422</td>\n",
       "      <td>0.006388</td>\n",
       "      <td>0.001275</td>\n",
       "      <td>0.054361</td>\n",
       "      <td>0.052941</td>\n",
       "      <td>0.082632</td>\n",
       "      <td>-0.002948</td>\n",
       "    </tr>\n",
       "    <tr>\n",
       "      <th>2019-01-08</th>\n",
       "      <td>0.016612</td>\n",
       "      <td>0.011289</td>\n",
       "      <td>0.013097</td>\n",
       "      <td>0.014168</td>\n",
       "      <td>0.029267</td>\n",
       "      <td>0.007251</td>\n",
       "      <td>0.001164</td>\n",
       "      <td>-0.024896</td>\n",
       "      <td>0.008751</td>\n",
       "      <td>-0.002628</td>\n",
       "    </tr>\n",
       "    <tr>\n",
       "      <th>2019-01-09</th>\n",
       "      <td>0.001714</td>\n",
       "      <td>-0.019166</td>\n",
       "      <td>0.010629</td>\n",
       "      <td>-0.005089</td>\n",
       "      <td>-0.012583</td>\n",
       "      <td>0.014300</td>\n",
       "      <td>0.009483</td>\n",
       "      <td>0.019667</td>\n",
       "      <td>-0.026988</td>\n",
       "      <td>-0.001565</td>\n",
       "    </tr>\n",
       "    <tr>\n",
       "      <th>...</th>\n",
       "      <td>...</td>\n",
       "      <td>...</td>\n",
       "      <td>...</td>\n",
       "      <td>...</td>\n",
       "      <td>...</td>\n",
       "      <td>...</td>\n",
       "      <td>...</td>\n",
       "      <td>...</td>\n",
       "      <td>...</td>\n",
       "      <td>...</td>\n",
       "    </tr>\n",
       "    <tr>\n",
       "      <th>2022-06-23</th>\n",
       "      <td>0.032033</td>\n",
       "      <td>0.011938</td>\n",
       "      <td>0.004874</td>\n",
       "      <td>0.015734</td>\n",
       "      <td>0.025596</td>\n",
       "      <td>0.022637</td>\n",
       "      <td>-0.004306</td>\n",
       "      <td>-0.008252</td>\n",
       "      <td>-0.015761</td>\n",
       "      <td>0.008215</td>\n",
       "    </tr>\n",
       "    <tr>\n",
       "      <th>2022-06-24</th>\n",
       "      <td>0.035752</td>\n",
       "      <td>0.018746</td>\n",
       "      <td>0.055471</td>\n",
       "      <td>0.021197</td>\n",
       "      <td>-0.021693</td>\n",
       "      <td>0.034150</td>\n",
       "      <td>0.045249</td>\n",
       "      <td>0.055532</td>\n",
       "      <td>0.056412</td>\n",
       "      <td>-0.013843</td>\n",
       "    </tr>\n",
       "    <tr>\n",
       "      <th>2022-06-27</th>\n",
       "      <td>-0.027821</td>\n",
       "      <td>-0.002062</td>\n",
       "      <td>-0.005457</td>\n",
       "      <td>-0.005189</td>\n",
       "      <td>0.000000</td>\n",
       "      <td>-0.010497</td>\n",
       "      <td>-0.003202</td>\n",
       "      <td>-0.015006</td>\n",
       "      <td>-0.010565</td>\n",
       "      <td>-0.008529</td>\n",
       "    </tr>\n",
       "    <tr>\n",
       "      <th>2022-06-28</th>\n",
       "      <td>-0.051404</td>\n",
       "      <td>-0.010014</td>\n",
       "      <td>-0.018481</td>\n",
       "      <td>-0.004347</td>\n",
       "      <td>-0.009812</td>\n",
       "      <td>-0.031749</td>\n",
       "      <td>-0.050044</td>\n",
       "      <td>-0.052582</td>\n",
       "      <td>-0.062442</td>\n",
       "      <td>0.004660</td>\n",
       "    </tr>\n",
       "    <tr>\n",
       "      <th>2022-06-29</th>\n",
       "      <td>0.014153</td>\n",
       "      <td>0.007225</td>\n",
       "      <td>-0.015887</td>\n",
       "      <td>0.015919</td>\n",
       "      <td>0.009512</td>\n",
       "      <td>0.014738</td>\n",
       "      <td>-0.017937</td>\n",
       "      <td>-0.027531</td>\n",
       "      <td>-0.034538</td>\n",
       "      <td>0.015608</td>\n",
       "    </tr>\n",
       "  </tbody>\n",
       "</table>\n",
       "<p>879 rows × 10 columns</p>\n",
       "</div>"
      ],
      "text/plain": [
       "                AMZN        KO        GM        WM        VZ      MSFT  \\\n",
       "Date                                                                     \n",
       "2019-01-03 -0.025241 -0.006179 -0.041320 -0.002705  0.003570 -0.036788   \n",
       "2019-01-04  0.050064  0.019940  0.033488  0.026560  0.002490  0.046509   \n",
       "2019-01-07  0.034353 -0.013033  0.030903  0.002422  0.006388  0.001275   \n",
       "2019-01-08  0.016612  0.011289  0.013097  0.014168  0.029267  0.007251   \n",
       "2019-01-09  0.001714 -0.019166  0.010629 -0.005089 -0.012583  0.014300   \n",
       "...              ...       ...       ...       ...       ...       ...   \n",
       "2022-06-23  0.032033  0.011938  0.004874  0.015734  0.025596  0.022637   \n",
       "2022-06-24  0.035752  0.018746  0.055471  0.021197 -0.021693  0.034150   \n",
       "2022-06-27 -0.027821 -0.002062 -0.005457 -0.005189  0.000000 -0.010497   \n",
       "2022-06-28 -0.051404 -0.010014 -0.018481 -0.004347 -0.009812 -0.031749   \n",
       "2022-06-29  0.014153  0.007225 -0.015887  0.015919  0.009512  0.014738   \n",
       "\n",
       "                TSLA      NVDA       AMD       TLT  \n",
       "Date                                                \n",
       "2019-01-03 -0.031472 -0.060417 -0.094530  0.011379  \n",
       "2019-01-04  0.057697  0.064067  0.114370 -0.011575  \n",
       "2019-01-07  0.054361  0.052941  0.082632 -0.002948  \n",
       "2019-01-08  0.001164 -0.024896  0.008751 -0.002628  \n",
       "2019-01-09  0.009483  0.019667 -0.026988 -0.001565  \n",
       "...              ...       ...       ...       ...  \n",
       "2022-06-23 -0.004306 -0.008252 -0.015761  0.008215  \n",
       "2022-06-24  0.045249  0.055532  0.056412 -0.013843  \n",
       "2022-06-27 -0.003202 -0.015006 -0.010565 -0.008529  \n",
       "2022-06-28 -0.050044 -0.052582 -0.062442  0.004660  \n",
       "2022-06-29 -0.017937 -0.027531 -0.034538  0.015608  \n",
       "\n",
       "[879 rows x 10 columns]"
      ]
     },
     "execution_count": 7,
     "metadata": {},
     "output_type": "execute_result"
    }
   ],
   "source": [
    "#Show the daily simple return\n",
    "returns = df.pct_change().dropna()\n",
    "returns"
   ]
  },
  {
   "cell_type": "code",
   "execution_count": 8,
   "metadata": {},
   "outputs": [
    {
     "data": {
      "text/plain": [
       "AMZN    0.157032\n",
       "KO      0.143019\n",
       "GM      0.112867\n",
       "WM      0.198554\n",
       "VZ      0.034787\n",
       "MSFT    0.330627\n",
       "TSLA    0.920181\n",
       "NVDA    0.570808\n",
       "AMD     0.558725\n",
       "TLT     0.011572\n",
       "dtype: float64"
      ]
     },
     "execution_count": 8,
     "metadata": {},
     "output_type": "execute_result"
    }
   ],
   "source": [
    "avg_returns = returns.mean() * No_of_days\n",
    "avg_returns"
   ]
  },
  {
   "cell_type": "code",
   "execution_count": 9,
   "metadata": {
    "executionInfo": {
     "elapsed": 25,
     "status": "aborted",
     "timestamp": 1636036871940,
     "user": {
      "displayName": "Damilola Omoseni",
      "photoUrl": "https://lh3.googleusercontent.com/a-/AOh14Gh8VXzK9GYlH-U4AHLfdGklJR_O9KOlxk_MXVJD0g=s64",
      "userId": "15916352059041585062"
     },
     "user_tz": 0
    },
    "id": "T5EUdntDpYWp",
    "outputId": "407503c8-d349-4336-eac2-59ba2a21b35b"
   },
   "outputs": [
    {
     "data": {
      "text/html": [
       "<div>\n",
       "<style scoped>\n",
       "    .dataframe tbody tr th:only-of-type {\n",
       "        vertical-align: middle;\n",
       "    }\n",
       "\n",
       "    .dataframe tbody tr th {\n",
       "        vertical-align: top;\n",
       "    }\n",
       "\n",
       "    .dataframe thead th {\n",
       "        text-align: right;\n",
       "    }\n",
       "</style>\n",
       "<table border=\"1\" class=\"dataframe\">\n",
       "  <thead>\n",
       "    <tr style=\"text-align: right;\">\n",
       "      <th></th>\n",
       "      <th>AMZN</th>\n",
       "      <th>KO</th>\n",
       "      <th>GM</th>\n",
       "      <th>WM</th>\n",
       "      <th>VZ</th>\n",
       "      <th>MSFT</th>\n",
       "      <th>TSLA</th>\n",
       "      <th>NVDA</th>\n",
       "      <th>AMD</th>\n",
       "      <th>TLT</th>\n",
       "    </tr>\n",
       "  </thead>\n",
       "  <tbody>\n",
       "    <tr>\n",
       "      <th>AMZN</th>\n",
       "      <td>0.114613</td>\n",
       "      <td>0.020200</td>\n",
       "      <td>0.042111</td>\n",
       "      <td>0.020743</td>\n",
       "      <td>0.014603</td>\n",
       "      <td>0.073166</td>\n",
       "      <td>0.102034</td>\n",
       "      <td>0.112392</td>\n",
       "      <td>0.106932</td>\n",
       "      <td>-0.006824</td>\n",
       "    </tr>\n",
       "    <tr>\n",
       "      <th>KO</th>\n",
       "      <td>0.020200</td>\n",
       "      <td>0.055722</td>\n",
       "      <td>0.042504</td>\n",
       "      <td>0.035121</td>\n",
       "      <td>0.024877</td>\n",
       "      <td>0.034949</td>\n",
       "      <td>0.029930</td>\n",
       "      <td>0.034976</td>\n",
       "      <td>0.032903</td>\n",
       "      <td>-0.010813</td>\n",
       "    </tr>\n",
       "    <tr>\n",
       "      <th>GM</th>\n",
       "      <td>0.042111</td>\n",
       "      <td>0.042504</td>\n",
       "      <td>0.198113</td>\n",
       "      <td>0.042619</td>\n",
       "      <td>0.022250</td>\n",
       "      <td>0.059355</td>\n",
       "      <td>0.106850</td>\n",
       "      <td>0.100301</td>\n",
       "      <td>0.086212</td>\n",
       "      <td>-0.021460</td>\n",
       "    </tr>\n",
       "    <tr>\n",
       "      <th>WM</th>\n",
       "      <td>0.020743</td>\n",
       "      <td>0.035121</td>\n",
       "      <td>0.042619</td>\n",
       "      <td>0.055406</td>\n",
       "      <td>0.024746</td>\n",
       "      <td>0.036065</td>\n",
       "      <td>0.025624</td>\n",
       "      <td>0.037430</td>\n",
       "      <td>0.036419</td>\n",
       "      <td>-0.007860</td>\n",
       "    </tr>\n",
       "    <tr>\n",
       "      <th>VZ</th>\n",
       "      <td>0.014603</td>\n",
       "      <td>0.024877</td>\n",
       "      <td>0.022250</td>\n",
       "      <td>0.024746</td>\n",
       "      <td>0.036645</td>\n",
       "      <td>0.021070</td>\n",
       "      <td>0.007075</td>\n",
       "      <td>0.020788</td>\n",
       "      <td>0.022934</td>\n",
       "      <td>-0.006603</td>\n",
       "    </tr>\n",
       "    <tr>\n",
       "      <th>MSFT</th>\n",
       "      <td>0.073166</td>\n",
       "      <td>0.034949</td>\n",
       "      <td>0.059355</td>\n",
       "      <td>0.036065</td>\n",
       "      <td>0.021070</td>\n",
       "      <td>0.097008</td>\n",
       "      <td>0.102164</td>\n",
       "      <td>0.118259</td>\n",
       "      <td>0.105977</td>\n",
       "      <td>-0.011106</td>\n",
       "    </tr>\n",
       "    <tr>\n",
       "      <th>TSLA</th>\n",
       "      <td>0.102034</td>\n",
       "      <td>0.029930</td>\n",
       "      <td>0.106850</td>\n",
       "      <td>0.025624</td>\n",
       "      <td>0.007075</td>\n",
       "      <td>0.102164</td>\n",
       "      <td>0.461674</td>\n",
       "      <td>0.180102</td>\n",
       "      <td>0.168533</td>\n",
       "      <td>-0.014454</td>\n",
       "    </tr>\n",
       "    <tr>\n",
       "      <th>NVDA</th>\n",
       "      <td>0.112392</td>\n",
       "      <td>0.034976</td>\n",
       "      <td>0.100301</td>\n",
       "      <td>0.037430</td>\n",
       "      <td>0.020788</td>\n",
       "      <td>0.118259</td>\n",
       "      <td>0.180102</td>\n",
       "      <td>0.266334</td>\n",
       "      <td>0.215213</td>\n",
       "      <td>-0.013726</td>\n",
       "    </tr>\n",
       "    <tr>\n",
       "      <th>AMD</th>\n",
       "      <td>0.106932</td>\n",
       "      <td>0.032903</td>\n",
       "      <td>0.086212</td>\n",
       "      <td>0.036419</td>\n",
       "      <td>0.022934</td>\n",
       "      <td>0.105977</td>\n",
       "      <td>0.168533</td>\n",
       "      <td>0.215213</td>\n",
       "      <td>0.305466</td>\n",
       "      <td>-0.012251</td>\n",
       "    </tr>\n",
       "    <tr>\n",
       "      <th>TLT</th>\n",
       "      <td>-0.006824</td>\n",
       "      <td>-0.010813</td>\n",
       "      <td>-0.021460</td>\n",
       "      <td>-0.007860</td>\n",
       "      <td>-0.006603</td>\n",
       "      <td>-0.011106</td>\n",
       "      <td>-0.014454</td>\n",
       "      <td>-0.013726</td>\n",
       "      <td>-0.012251</td>\n",
       "      <td>0.028471</td>\n",
       "    </tr>\n",
       "  </tbody>\n",
       "</table>\n",
       "</div>"
      ],
      "text/plain": [
       "          AMZN        KO        GM        WM        VZ      MSFT      TSLA  \\\n",
       "AMZN  0.114613  0.020200  0.042111  0.020743  0.014603  0.073166  0.102034   \n",
       "KO    0.020200  0.055722  0.042504  0.035121  0.024877  0.034949  0.029930   \n",
       "GM    0.042111  0.042504  0.198113  0.042619  0.022250  0.059355  0.106850   \n",
       "WM    0.020743  0.035121  0.042619  0.055406  0.024746  0.036065  0.025624   \n",
       "VZ    0.014603  0.024877  0.022250  0.024746  0.036645  0.021070  0.007075   \n",
       "MSFT  0.073166  0.034949  0.059355  0.036065  0.021070  0.097008  0.102164   \n",
       "TSLA  0.102034  0.029930  0.106850  0.025624  0.007075  0.102164  0.461674   \n",
       "NVDA  0.112392  0.034976  0.100301  0.037430  0.020788  0.118259  0.180102   \n",
       "AMD   0.106932  0.032903  0.086212  0.036419  0.022934  0.105977  0.168533   \n",
       "TLT  -0.006824 -0.010813 -0.021460 -0.007860 -0.006603 -0.011106 -0.014454   \n",
       "\n",
       "          NVDA       AMD       TLT  \n",
       "AMZN  0.112392  0.106932 -0.006824  \n",
       "KO    0.034976  0.032903 -0.010813  \n",
       "GM    0.100301  0.086212 -0.021460  \n",
       "WM    0.037430  0.036419 -0.007860  \n",
       "VZ    0.020788  0.022934 -0.006603  \n",
       "MSFT  0.118259  0.105977 -0.011106  \n",
       "TSLA  0.180102  0.168533 -0.014454  \n",
       "NVDA  0.266334  0.215213 -0.013726  \n",
       "AMD   0.215213  0.305466 -0.012251  \n",
       "TLT  -0.013726 -0.012251  0.028471  "
      ]
     },
     "execution_count": 9,
     "metadata": {},
     "output_type": "execute_result"
    }
   ],
   "source": [
    "#Create and show annualized covariance matrix \n",
    "cov_matrix_annual = returns.cov() * No_of_days\n",
    "cov_matrix_annual"
   ]
  },
  {
   "cell_type": "code",
   "execution_count": 10,
   "metadata": {
    "executionInfo": {
     "elapsed": 25,
     "status": "aborted",
     "timestamp": 1636036871941,
     "user": {
      "displayName": "Damilola Omoseni",
      "photoUrl": "https://lh3.googleusercontent.com/a-/AOh14Gh8VXzK9GYlH-U4AHLfdGklJR_O9KOlxk_MXVJD0g=s64",
      "userId": "15916352059041585062"
     },
     "user_tz": 0
    },
    "id": "3j8cZ0ecpYWp",
    "outputId": "d5b33c45-ba7e-417c-a552-f13a8a318eb4"
   },
   "outputs": [
    {
     "data": {
      "text/plain": [
       "0.059441151828180834"
      ]
     },
     "execution_count": 10,
     "metadata": {},
     "output_type": "execute_result"
    }
   ],
   "source": [
    "#Calculate the portfolio variance \n",
    "port_variance = np.dot(weights, np.dot(cov_matrix_annual, weights))\n",
    "port_variance"
   ]
  },
  {
   "cell_type": "code",
   "execution_count": 11,
   "metadata": {
    "executionInfo": {
     "elapsed": 26,
     "status": "aborted",
     "timestamp": 1636036871942,
     "user": {
      "displayName": "Damilola Omoseni",
      "photoUrl": "https://lh3.googleusercontent.com/a-/AOh14Gh8VXzK9GYlH-U4AHLfdGklJR_O9KOlxk_MXVJD0g=s64",
      "userId": "15916352059041585062"
     },
     "user_tz": 0
    },
    "id": "I69bkgt3pYWq",
    "outputId": "24e66e66-dc4c-4cb0-b206-69747ad7ea10"
   },
   "outputs": [
    {
     "data": {
      "text/plain": [
       "0.24380556152020166"
      ]
     },
     "execution_count": 11,
     "metadata": {},
     "output_type": "execute_result"
    }
   ],
   "source": [
    "#Calculate the portfolio volatility aka standard deviation\n",
    "port_volatility = np.sqrt(port_variance)\n",
    "port_volatility"
   ]
  },
  {
   "cell_type": "code",
   "execution_count": 12,
   "metadata": {
    "executionInfo": {
     "elapsed": 27,
     "status": "aborted",
     "timestamp": 1636036871944,
     "user": {
      "displayName": "Damilola Omoseni",
      "photoUrl": "https://lh3.googleusercontent.com/a-/AOh14Gh8VXzK9GYlH-U4AHLfdGklJR_O9KOlxk_MXVJD0g=s64",
      "userId": "15916352059041585062"
     },
     "user_tz": 0
    },
    "id": "iPkywek0pYWq",
    "outputId": "861407a2-7705-4d96-9ec7-0ebbdd41555a"
   },
   "outputs": [
    {
     "data": {
      "text/plain": [
       "0.303817182150798"
      ]
     },
     "execution_count": 12,
     "metadata": {},
     "output_type": "execute_result"
    }
   ],
   "source": [
    "#Calculate the annual portfolio return\n",
    "portfolioSimpleAnnualReturn = np.sum(returns.mean() * weights) * No_of_days\n",
    "portfolioSimpleAnnualReturn"
   ]
  },
  {
   "cell_type": "code",
   "execution_count": 13,
   "metadata": {
    "executionInfo": {
     "elapsed": 28,
     "status": "aborted",
     "timestamp": 1636036871945,
     "user": {
      "displayName": "Damilola Omoseni",
      "photoUrl": "https://lh3.googleusercontent.com/a-/AOh14Gh8VXzK9GYlH-U4AHLfdGklJR_O9KOlxk_MXVJD0g=s64",
      "userId": "15916352059041585062"
     },
     "user_tz": 0
    },
    "id": "ST2L2xT8pYWr",
    "outputId": "a69ec1bf-dd9a-497d-983d-96eaabe2e1f2"
   },
   "outputs": [
    {
     "name": "stdout",
     "output_type": "stream",
     "text": [
      "Expected annual return: 30.0%\n",
      "Annual volatility / risk: 24.0%\n",
      "Annual variance: 6.0%\n"
     ]
    }
   ],
   "source": [
    "#Show the expected annual return, volatility (risk), and variance\n",
    "\n",
    "percent_var = str( round(port_variance, 2) * 100) + '%'\n",
    "percent_vols = str(round(port_volatility, 2) * 100) + '%'\n",
    "percent_ret = str(round(portfolioSimpleAnnualReturn, 2) * 100) + '%'\n",
    "\n",
    "print('Expected annual return: '+ percent_ret)\n",
    "print('Annual volatility / risk: '+ percent_vols)\n",
    "print('Annual variance: '+ percent_var)"
   ]
  },
  {
   "cell_type": "code",
   "execution_count": 14,
   "metadata": {},
   "outputs": [],
   "source": [
    "portfolio_returns = pd.Series(np.dot(weights, returns.T),\n",
    "                              index=returns.index)"
   ]
  },
  {
   "cell_type": "code",
   "execution_count": 15,
   "metadata": {
    "scrolled": false
   },
   "outputs": [
    {
     "data": {
      "text/html": [
       "<table border=\"1\" class=\"dataframe\">\n",
       "  <thead>\n",
       "    <tr style=\"text-align: right;\"><th>Start date</th><td colspan=2>2019-01-03</td></tr>\n",
       "    <tr style=\"text-align: right;\"><th>End date</th><td colspan=2>2022-06-29</td></tr>\n",
       "    <tr style=\"text-align: right;\"><th>Total months</th><td colspan=2>41</td></tr>\n",
       "    <tr style=\"text-align: right;\">\n",
       "      <th></th>\n",
       "      <th>Backtest</th>\n",
       "    </tr>\n",
       "  </thead>\n",
       "  <tbody>\n",
       "    <tr>\n",
       "      <th>Annual return</th>\n",
       "      <td>31.5%</td>\n",
       "    </tr>\n",
       "    <tr>\n",
       "      <th>Cumulative returns</th>\n",
       "      <td>159.9%</td>\n",
       "    </tr>\n",
       "    <tr>\n",
       "      <th>Annual volatility</th>\n",
       "      <td>24.4%</td>\n",
       "    </tr>\n",
       "    <tr>\n",
       "      <th>Sharpe ratio</th>\n",
       "      <td>1.25</td>\n",
       "    </tr>\n",
       "    <tr>\n",
       "      <th>Calmar ratio</th>\n",
       "      <td>1.06</td>\n",
       "    </tr>\n",
       "    <tr>\n",
       "      <th>Stability</th>\n",
       "      <td>0.92</td>\n",
       "    </tr>\n",
       "    <tr>\n",
       "      <th>Max drawdown</th>\n",
       "      <td>-29.8%</td>\n",
       "    </tr>\n",
       "    <tr>\n",
       "      <th>Omega ratio</th>\n",
       "      <td>1.25</td>\n",
       "    </tr>\n",
       "    <tr>\n",
       "      <th>Sortino ratio</th>\n",
       "      <td>1.74</td>\n",
       "    </tr>\n",
       "    <tr>\n",
       "      <th>Skew</th>\n",
       "      <td>-0.67</td>\n",
       "    </tr>\n",
       "    <tr>\n",
       "      <th>Kurtosis</th>\n",
       "      <td>5.81</td>\n",
       "    </tr>\n",
       "    <tr>\n",
       "      <th>Tail ratio</th>\n",
       "      <td>1.06</td>\n",
       "    </tr>\n",
       "    <tr>\n",
       "      <th>Daily value at risk</th>\n",
       "      <td>-3.0%</td>\n",
       "    </tr>\n",
       "  </tbody>\n",
       "</table>"
      ],
      "text/plain": [
       "<IPython.core.display.HTML object>"
      ]
     },
     "metadata": {},
     "output_type": "display_data"
    },
    {
     "data": {
      "image/png": "[encoded data removed]",
      "text/plain": [
       "<Figure size 1008x1728 with 3 Axes>"
      ]
     },
     "metadata": {},
     "output_type": "display_data"
    }
   ],
   "source": [
    "pf.create_simple_tear_sheet(portfolio_returns)"
   ]
  },
  {
   "cell_type": "code",
   "execution_count": 16,
   "metadata": {},
   "outputs": [],
   "source": [
    "# pf.create_returns_tear_sheet(portfolio_returns)"
   ]
  },
  {
   "cell_type": "code",
   "execution_count": 17,
   "metadata": {
    "id": "bYLuW7daphaW"
   },
   "outputs": [],
   "source": [
    "#pip install pyPortfolioOpt"
   ]
  },
  {
   "cell_type": "code",
   "execution_count": 18,
   "metadata": {
    "id": "5Eaxcu0xpYWr"
   },
   "outputs": [],
   "source": [
    "from pypfopt.efficient_frontier import EfficientFrontier\n",
    "from pypfopt import risk_models\n",
    "from pypfopt import expected_returns"
   ]
  },
  {
   "cell_type": "code",
   "execution_count": 19,
   "metadata": {
    "executionInfo": {
     "elapsed": 31,
     "status": "aborted",
     "timestamp": 1636036871949,
     "user": {
      "displayName": "Damilola Omoseni",
      "photoUrl": "https://lh3.googleusercontent.com/a-/AOh14Gh8VXzK9GYlH-U4AHLfdGklJR_O9KOlxk_MXVJD0g=s64",
      "userId": "15916352059041585062"
     },
     "user_tz": 0
    },
    "id": "SF4mW6G7pYWs",
    "outputId": "ae06494e-6985-40aa-ee0e-0a07388f57f7"
   },
   "outputs": [
    {
     "name": "stdout",
     "output_type": "stream",
     "text": [
      "OrderedDict([('AMZN', 0.0), ('KO', 0.0), ('GM', 0.0), ('WM', 0.37058), ('VZ', 0.0), ('MSFT', 0.0), ('TSLA', 0.34972), ('NVDA', 0.09833), ('AMD', 0.00496), ('TLT', 0.17641)])\n",
      "Expected annual return: 47.2%\n",
      "Annual volatility: 29.5%\n",
      "Sharpe Ratio: 1.53\n"
     ]
    },
    {
     "data": {
      "text/plain": [
       "(0.47159135247407424, 0.29481546602796616, 1.5317763296422051)"
      ]
     },
     "execution_count": 19,
     "metadata": {},
     "output_type": "execute_result"
    }
   ],
   "source": [
    "#Portfolio Optimization !!!\n",
    "\n",
    "#Calculate the expected returns and the annualised sample covariance matrix of asset returns\n",
    "mu = expected_returns.mean_historical_return(df)\n",
    "S = risk_models.sample_cov(df)\n",
    "\n",
    "#optimize for max sharpe ratio\n",
    "ef = EfficientFrontier(mu, S)\n",
    "weights = ef.max_sharpe()\n",
    "cleaned_weights = ef.clean_weights()\n",
    "print(cleaned_weights)\n",
    "ef.portfolio_performance(verbose = True)"
   ]
  },
  {
   "cell_type": "code",
   "execution_count": 20,
   "metadata": {
    "executionInfo": {
     "elapsed": 31,
     "status": "aborted",
     "timestamp": 1636036871950,
     "user": {
      "displayName": "Damilola Omoseni",
      "photoUrl": "https://lh3.googleusercontent.com/a-/AOh14Gh8VXzK9GYlH-U4AHLfdGklJR_O9KOlxk_MXVJD0g=s64",
      "userId": "15916352059041585062"
     },
     "user_tz": 0
    },
    "id": "8iyyskHkpYWs",
    "outputId": "b231f5b7-a1a6-4bc4-ffec-e5d21b4230d8"
   },
   "outputs": [
    {
     "name": "stdout",
     "output_type": "stream",
     "text": [
      "Discrete allocation:  {'WM': 49, 'TSLA': 10, 'NVDA': 13, 'AMD': 1, 'TLT': 31}\n",
      "Funds remaining: $105.63\n"
     ]
    }
   ],
   "source": [
    "#Get the discrete allocation of each share per stock\n",
    "from pypfopt.discrete_allocation import DiscreteAllocation, get_latest_prices\n",
    "\n",
    "latest_prices = get_latest_prices(df)\n",
    "weights = cleaned_weights\n",
    "da = DiscreteAllocation(weights, latest_prices, total_portfolio_value = 20000)\n",
    "\n",
    "allocation, leftover = da.lp_portfolio()\n",
    "print('Discrete allocation: ', allocation)\n",
    "print('Funds remaining: ${:.2f}'.format(leftover))"
   ]
  },
  {
   "cell_type": "code",
   "execution_count": null,
   "metadata": {},
   "outputs": [],
   "source": []
  },
  {
   "cell_type": "markdown",
   "metadata": {},
   "source": [
    "## Simulating Portfolio dynamics using Geometric Brownian Motion"
   ]
  },
  {
   "cell_type": "code",
   "execution_count": null,
   "metadata": {},
   "outputs": [],
   "source": [
    "R_Asset = 'DIS'\n",
    "Start_Date = '2019-01-01'\n",
    "End_date = '2022-06-22'"
   ]
  },
  {
   "cell_type": "code",
   "execution_count": 22,
   "metadata": {},
   "outputs": [
    {
     "name": "stdout",
     "output_type": "stream",
     "text": [
      "[*********************100%***********************]  1 of 1 completed\n"
     ]
    }
   ],
   "source": [
    "data = yf.download(R_Asset, start=Start_Date,\n",
    "                  end=End_date, adjusted=True, parse_dates=['date-time'], \n",
    "                   index_col = ['date-time'])"
   ]
  },
  {
   "cell_type": "code",
   "execution_count": 23,
   "metadata": {},
   "outputs": [],
   "source": [
    "# data"
   ]
  },
  {
   "cell_type": "code",
   "execution_count": 24,
   "metadata": {},
   "outputs": [
    {
     "name": "stdout",
     "output_type": "stream",
     "text": [
      "Average return: 0.01%\n"
     ]
    },
    {
     "data": {
      "text/plain": [
       "<AxesSubplot:title={'center':'DIS returns: 2019-01-01 - 2022-06-22'}, xlabel='Date'>"
      ]
     },
     "execution_count": 24,
     "metadata": {},
     "output_type": "execute_result"
    },
    {
     "data": {
      "image/png": "[encoded data removed]",
      "text/plain": [
       "<Figure size 432x288 with 1 Axes>"
      ]
     },
     "metadata": {},
     "output_type": "display_data"
    }
   ],
   "source": [
    "#Calculate the daily returns:\n",
    "adj_close = data['Adj Close']\n",
    "returns = adj_close.pct_change().dropna()\n",
    "print(f'Average return: {100 * returns.mean():.2f}%')\n",
    "returns.plot(title=f'{R_Asset} returns: {Start_Date} - {End_date}')"
   ]
  },
  {
   "cell_type": "code",
   "execution_count": 25,
   "metadata": {},
   "outputs": [],
   "source": [
    "train = returns['2019-01-01':'2020-12-22']\n",
    "test = returns['2021-01-01':'2022-06-22']"
   ]
  },
  {
   "cell_type": "code",
   "execution_count": 27,
   "metadata": {},
   "outputs": [
    {
     "ename": "AttributeError",
     "evalue": "'Timestamp' object has no attribute 'datetime'",
     "output_type": "error",
     "traceback": [
      "\u001b[1;31m---------------------------------------------------------------------------\u001b[0m",
      "\u001b[1;31mAttributeError\u001b[0m                            Traceback (most recent call last)",
      "Input \u001b[1;32mIn [27]\u001b[0m, in \u001b[0;36m<cell line: 4>\u001b[1;34m()\u001b[0m\n\u001b[0;32m      2\u001b[0m T \u001b[38;5;241m=\u001b[39m \u001b[38;5;28mlen\u001b[39m(test)\n\u001b[0;32m      3\u001b[0m N \u001b[38;5;241m=\u001b[39m \u001b[38;5;28mlen\u001b[39m(test)\n\u001b[1;32m----> 4\u001b[0m S_0 \u001b[38;5;241m=\u001b[39m data[\u001b[43mtrain\u001b[49m\u001b[38;5;241;43m.\u001b[39;49m\u001b[43mindex\u001b[49m\u001b[43m[\u001b[49m\u001b[38;5;241;43m-\u001b[39;49m\u001b[38;5;241;43m1\u001b[39;49m\u001b[43m]\u001b[49m\u001b[38;5;241;43m.\u001b[39;49m\u001b[43mdatetime\u001b[49m()]\n\u001b[0;32m      5\u001b[0m No_of_SIM \u001b[38;5;241m=\u001b[39m \u001b[38;5;241m100\u001b[39m\n\u001b[0;32m      6\u001b[0m mu \u001b[38;5;241m=\u001b[39m train\u001b[38;5;241m.\u001b[39mmean()\n",
      "\u001b[1;31mAttributeError\u001b[0m: 'Timestamp' object has no attribute 'datetime'"
     ]
    }
   ],
   "source": [
    "# Specify the parameters of the simulation:\n",
    "T = len(test)\n",
    "N = len(test)\n",
    "S_0 = data[train.index[-1].datetime()]\n",
    "No_of_SIM = 100\n",
    "mu = train.mean()\n",
    "sigma = train.std()"
   ]
  },
  {
   "cell_type": "code",
   "execution_count": null,
   "metadata": {},
   "outputs": [],
   "source": [
    "#Define the function for simulations:\n",
    "def simulate_gbm(s_0, mu, sigma, n_sims, T, N):\n",
    "    dt = T/N\n",
    "    dW = np.random.normal(scale = np.sqrt(dt),\n",
    "                          size=(n_sims, N))\n",
    "    W = np.cumsum(dW, axis=1)\n",
    " \n",
    "    time_step = np.linspace(dt, T, N)\n",
    "    time_steps = np.broadcast_to(time_step, (n_sims, N))\n",
    "    S_t = s_0 * np.exp((mu - 0.5 * sigma ** 2) * time_steps\n",
    "                       + sigma * W)\n",
    "    S_t = np.insert(S_t, 0, s_0, axis=1)\n",
    "    return S_t"
   ]
  },
  {
   "cell_type": "code",
   "execution_count": null,
   "metadata": {},
   "outputs": [],
   "source": [
    "#Run the simulations:\n",
    "gbm_simulations = simulate_gbm(S_0, mu, sigma, N_SIM, T, N)"
   ]
  },
  {
   "cell_type": "code",
   "execution_count": null,
   "metadata": {},
   "outputs": [],
   "source": [
    "#Plot the simulation results:\n",
    "# prepare objects for plotting\n",
    "\n",
    "LAST_TRAIN_DATE = train.index[-1].date()\n",
    "FIRST_TEST_DATE = test.index[0].date()\n",
    "LAST_TEST_DATE = test.index[-1].date()\n",
    "PLOT_TITLE = (f'{RISKY_ASSET} Simulation '\n",
    "              f'({FIRST_TEST_DATE}:{LAST_TEST_DATE})')\n",
    "selected_indices = adj_close[LAST_TRAIN_DATE:LAST_TEST_DATE].index\n",
    "index = [date.date() for date in selected_indices]\n",
    "gbm_simulations_df = pd.DataFrame(np.transpose(gbm_simulations),\n",
    "                                  index=index)\n",
    "\n",
    "# plotting\n",
    "ax = gbm_simulations_df.plot(alpha=0.2, legend=False)\n",
    "line_1, = ax.plot(index, gbm_simulations_df.mean(axis=1),\n",
    "                  color='red')\n",
    "line_2, = ax.plot(index, adj_close[LAST_TRAIN_DATE:LAST_TEST_DATE],\n",
    "                  color='blue')\n",
    "ax.set_title(PLOT_TITLE, fontsize=16)\n",
    "ax.legend((line_1, line_2), ('mean', 'actual'))"
   ]
  },
  {
   "cell_type": "code",
   "execution_count": null,
   "metadata": {},
   "outputs": [],
   "source": []
  },
  {
   "cell_type": "code",
   "execution_count": null,
   "metadata": {},
   "outputs": [],
   "source": []
  }
 ],
 "metadata": {
  "colab": {
   "collapsed_sections": [],
   "name": "Finance 001 - Portfolio Optimization.ipynb",
   "provenance": [
    {
     "file_id": "1ylrTDvRR7bL0UsIq1PTr13Es0Ld2p0JF",
     "timestamp": 1636037098862
    }
   ]
  },
  "kernelspec": {
   "display_name": "Python 3 (ipykernel)",
   "language": "python",
   "name": "python3"
  },
  "language_info": {
   "codemirror_mode": {
    "name": "ipython",
    "version": 3
   },
   "file_extension": ".py",
   "mimetype": "text/x-python",
   "name": "python",
   "nbconvert_exporter": "python",
   "pygments_lexer": "ipython3",
   "version": "3.10.4"
  }
 },
 "nbformat": 4,
 "nbformat_minor": 1
}
